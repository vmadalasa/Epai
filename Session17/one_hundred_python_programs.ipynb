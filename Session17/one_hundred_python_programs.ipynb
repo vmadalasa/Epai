{
  "nbformat": 4,
  "nbformat_minor": 0,
  "metadata": {
    "colab": {
      "name": "one hundred python programs.ipynb",
      "provenance": [],
      "collapsed_sections": [],
      "authorship_tag": "ABX9TyNu+CDreqVXqgtJmSSp8QpC",
      "include_colab_link": true
    },
    "kernelspec": {
      "name": "python3",
      "display_name": "Python 3"
    }
  },
  "cells": [
    {
      "cell_type": "markdown",
      "metadata": {
        "id": "view-in-github",
        "colab_type": "text"
      },
      "source": [
        "<a href=\"https://colab.research.google.com/github/vmadalasa/Epai/blob/main/Session17/one_hundred_python_programs.ipynb\" target=\"_parent\"><img src=\"https://colab.research.google.com/assets/colab-badge.svg\" alt=\"Open In Colab\"/></a>"
      ]
    },
    {
      "cell_type": "code",
      "metadata": {
        "id": "LJYazf97jhoT"
      },
      "source": [
        "#Program1\n",
        "# write a python function to add two user provided numbers and return the sum\n",
        "def add_two_numbers(num1, num2):\n",
        "    sum = num1 + num2\n",
        "    return sum\n"
      ],
      "execution_count": null,
      "outputs": []
    },
    {
      "cell_type": "code",
      "metadata": {
        "colab": {
          "base_uri": "https://localhost:8080/"
        },
        "id": "yRG_XLGDji0O",
        "outputId": "d0a6b311-e822-42ae-a4b6-020af0cf567b"
      },
      "source": [
        "add_two_numbers(1,5)"
      ],
      "execution_count": null,
      "outputs": [
        {
          "output_type": "execute_result",
          "data": {
            "text/plain": [
              "6"
            ]
          },
          "metadata": {
            "tags": []
          },
          "execution_count": 2
        }
      ]
    },
    {
      "cell_type": "code",
      "metadata": {
        "colab": {
          "base_uri": "https://localhost:8080/"
        },
        "id": "9kuwU7MUjsx_",
        "outputId": "20d45e75-fc72-4255-e9ef-df9ac0c7b2d4"
      },
      "source": [
        "#number 2\n",
        "# write a python program to add two numbers \n",
        "num1 = 1.5\n",
        "num2 = 6.3\n",
        "sum = num1 + num2\n",
        "print(f'Sum: {sum}')\n"
      ],
      "execution_count": null,
      "outputs": [
        {
          "output_type": "stream",
          "text": [
            "Sum: 7.8\n"
          ],
          "name": "stdout"
        }
      ]
    },
    {
      "cell_type": "code",
      "metadata": {
        "colab": {
          "base_uri": "https://localhost:8080/"
        },
        "id": "vqXOthY6jwhc",
        "outputId": "c033b28d-4af0-4441-d8e5-25afbf832570"
      },
      "source": [
        "#number 3\n",
        "# write a program to find and print the largest among three numbers\n",
        "\n",
        "num1 = 10\n",
        "num2 = 12\n",
        "num3 = 14\n",
        "if (num1 >= num2) and (num1 >= num3):\n",
        "   largest = num1\n",
        "elif (num2 >= num1) and (num2 >= num3):\n",
        "   largest = num2\n",
        "else:\n",
        "   largest = num3\n",
        "print(f'largest:{largest}')"
      ],
      "execution_count": null,
      "outputs": [
        {
          "output_type": "stream",
          "text": [
            "largest:14\n"
          ],
          "name": "stdout"
        }
      ]
    },
    {
      "cell_type": "code",
      "metadata": {
        "id": "yYieMluoj1Cy"
      },
      "source": [
        "#4\n",
        "#print a string\n",
        "def printme( str ):\n",
        "   \"This prints a passed string into this function\"\n",
        "   print (str)\n",
        "   return"
      ],
      "execution_count": null,
      "outputs": []
    },
    {
      "cell_type": "code",
      "metadata": {
        "colab": {
          "base_uri": "https://localhost:8080/"
        },
        "id": "ptfS4gEfkAEH",
        "outputId": "3af15ac4-0a37-4b40-b846-d58bb9c0dc6b"
      },
      "source": [
        "printme(\"this is number 4, 96 more to go\")"
      ],
      "execution_count": null,
      "outputs": [
        {
          "output_type": "stream",
          "text": [
            "this is number 4, 96 more to go\n"
          ],
          "name": "stdout"
        }
      ]
    },
    {
      "cell_type": "code",
      "metadata": {
        "id": "_xqUUZd5kKaw"
      },
      "source": [
        "#5 change list without append and see inside vs outside values\n",
        "def changeme( mylist ):\n",
        "   \"This changes a passed list into this function\"\n",
        "   mylist = [1,2,3,4]; # This would assig new reference in mylist\n",
        "   print (\"Values inside the function: \", mylist)\n",
        "   return"
      ],
      "execution_count": null,
      "outputs": []
    },
    {
      "cell_type": "code",
      "metadata": {
        "colab": {
          "base_uri": "https://localhost:8080/"
        },
        "id": "eK-p-26QliXS",
        "outputId": "c7fbacd9-50ce-49b5-c6cf-083b06b7fdee"
      },
      "source": [
        "mylist = [50,60,70];\n",
        "changeme(mylist)\n",
        "print (\"Values outside \", mylist)"
      ],
      "execution_count": null,
      "outputs": [
        {
          "output_type": "stream",
          "text": [
            "Values inside the function:  [1, 2, 3, 4]\n",
            "Values outside  [50, 60, 70]\n"
          ],
          "name": "stdout"
        }
      ]
    },
    {
      "cell_type": "code",
      "metadata": {
        "id": "AWjMoWs6kGrH"
      },
      "source": [
        "#6 change list using append and check internal and external value\n",
        "# Function definition is here\n",
        "def change_my_list( list ):\n",
        "   \"This changes a passed list into this function\"\n",
        "   list.append([1,2,3,4]);\n",
        "   print (\"Values inside \", list)\n",
        "   return"
      ],
      "execution_count": null,
      "outputs": []
    },
    {
      "cell_type": "code",
      "metadata": {
        "colab": {
          "base_uri": "https://localhost:8080/"
        },
        "id": "5O9PQ78SkTB5",
        "outputId": "eb84fe82-e4f5-4df2-9c05-085e3ad15ef4"
      },
      "source": [
        "mylist1 = [10,20,30];\n",
        "change_my_list(mylist1)\n",
        "print (\"Values outside \", mylist1)\n"
      ],
      "execution_count": null,
      "outputs": [
        {
          "output_type": "stream",
          "text": [
            "Values inside  [10, 20, 30, [1, 2, 3, 4]]\n",
            "Values outside  [10, 20, 30, [1, 2, 3, 4]]\n"
          ],
          "name": "stdout"
        }
      ]
    },
    {
      "cell_type": "code",
      "metadata": {
        "id": "vX0hxICpkLpe"
      },
      "source": [
        "#7\n",
        "# Function definition is here\n",
        "def printinfo( arg1, *vartuple ):\n",
        "   \"This prints a variable passed arguments\"\n",
        "   print (\"Output is: \")\n",
        "   print (arg1)\n",
        "   for var in vartuple:\n",
        "      print (var)\n",
        "   return;\n"
      ],
      "execution_count": null,
      "outputs": []
    },
    {
      "cell_type": "code",
      "metadata": {
        "colab": {
          "base_uri": "https://localhost:8080/"
        },
        "id": "4FqQwkaYmNNY",
        "outputId": "714da3da-4bce-4ff7-eaee-3c5f677838aa"
      },
      "source": [
        "#8 show global and local\n",
        "x = 50\n",
        "\n",
        "def func():\n",
        "    global x\n",
        " \n",
        "    print('x is', x)\n",
        "    x = 2\n",
        "    print('Changed global x to', x)\n",
        "func()\n",
        "print('Value of x is', x)"
      ],
      "execution_count": null,
      "outputs": [
        {
          "output_type": "stream",
          "text": [
            "x is 50\n",
            "Changed global x to 2\n",
            "Value of x is 2\n"
          ],
          "name": "stdout"
        }
      ]
    },
    {
      "cell_type": "code",
      "metadata": {
        "colab": {
          "base_uri": "https://localhost:8080/"
        },
        "id": "HWAhdAk_mVZB",
        "outputId": "83dc4bd7-6ea8-49b7-dc46-d97e8c40496f"
      },
      "source": [
        "#9 print tests\n",
        "def test(a, b=5, c=10):\n",
        "    print('a is', a, 'and b is', b, 'and c is', c)\n",
        " \n",
        "test(3, 7)\n",
        "test(25, c = 24)\n",
        "test(c = 50, a = 100)"
      ],
      "execution_count": null,
      "outputs": [
        {
          "output_type": "stream",
          "text": [
            "a is 3 and b is 7 and c is 10\n",
            "a is 25 and b is 5 and c is 24\n",
            "a is 100 and b is 5 and c is 50\n"
          ],
          "name": "stdout"
        }
      ]
    },
    {
      "cell_type": "code",
      "metadata": {
        "id": "QKHpVb8tmiYp"
      },
      "source": [
        "#10 reduce nums from a + integer\n",
        "def myfunc(text, num):\n",
        "    while num > 0:\n",
        "        num = num - 1\n",
        "        print(num)\n"
      ],
      "execution_count": null,
      "outputs": []
    },
    {
      "cell_type": "code",
      "metadata": {
        "colab": {
          "base_uri": "https://localhost:8080/"
        },
        "id": "O98EtzcBmpNa",
        "outputId": "94e7a387-32db-47b5-864d-9a9031412e68"
      },
      "source": [
        "num=4\n",
        "myfunc('Hello', num)"
      ],
      "execution_count": null,
      "outputs": [
        {
          "output_type": "stream",
          "text": [
            "3\n",
            "2\n",
            "1\n",
            "0\n"
          ],
          "name": "stdout"
        }
      ]
    },
    {
      "cell_type": "code",
      "metadata": {
        "id": "h1RwOb-HkOSJ"
      },
      "source": [
        "#11 time elapsed\n",
        "def taken_time(start_time, end_time):\n",
        "    elapsed_time = end_time - start_time\n",
        "    elapsed_mins = int(elapsed_time / 60)\n",
        "    elapsed_secs = int(elapsed_time - (elapsed_mins * 60))\n",
        "    return elapsed_mins, elapsed_secs\n"
      ],
      "execution_count": null,
      "outputs": []
    },
    {
      "cell_type": "code",
      "metadata": {
        "colab": {
          "base_uri": "https://localhost:8080/"
        },
        "id": "ngN88nRBjZIY",
        "outputId": "56c8d7f3-d68f-465d-c08b-6a3ce12366ec"
      },
      "source": [
        "taken_time(1159,1205)"
      ],
      "execution_count": null,
      "outputs": [
        {
          "output_type": "execute_result",
          "data": {
            "text/plain": [
              "(0, 46)"
            ]
          },
          "metadata": {
            "tags": []
          },
          "execution_count": 47
        }
      ]
    },
    {
      "cell_type": "code",
      "metadata": {
        "id": "N-nSkiidnUQR"
      },
      "source": [
        "#12 text added to subject\n",
        "def hello_func():\n",
        "    text = 'Hello'\n",
        "    name = (lambda x:text + ' ' + x)\n",
        "    return name\n",
        " \n"
      ],
      "execution_count": null,
      "outputs": []
    },
    {
      "cell_type": "code",
      "metadata": {
        "colab": {
          "base_uri": "https://localhost:8080/"
        },
        "id": "YVNU76xZnYAo",
        "outputId": "30e9419a-ea65-4603-a39a-07565ea93b95"
      },
      "source": [
        "msg = func()\n",
        "print(msg('All'))"
      ],
      "execution_count": null,
      "outputs": [
        {
          "output_type": "stream",
          "text": [
            "Hello All\n"
          ],
          "name": "stdout"
        }
      ]
    },
    {
      "cell_type": "code",
      "metadata": {
        "id": "h1i20FeKneW9"
      },
      "source": [
        "#13 squaring a number\n",
        "def square_func(x, y=2):\n",
        "    num = 1\n",
        "    for i in range(y):\n",
        "       num = num * x\n",
        "    return num\n"
      ],
      "execution_count": null,
      "outputs": []
    },
    {
      "cell_type": "code",
      "metadata": {
        "colab": {
          "base_uri": "https://localhost:8080/"
        },
        "id": "uCD1SucJnmLa",
        "outputId": "636d3eae-ce0f-434c-8d55-5da4bde6f271"
      },
      "source": [
        "print (square_func(4))\n",
        "print (square_func(4, 4))"
      ],
      "execution_count": null,
      "outputs": [
        {
          "output_type": "stream",
          "text": [
            "16\n",
            "256\n"
          ],
          "name": "stdout"
        }
      ]
    },
    {
      "cell_type": "code",
      "metadata": {
        "colab": {
          "base_uri": "https://localhost:8080/"
        },
        "id": "WRt8itlRnzaQ",
        "outputId": "7b0c6b5d-255c-4b1c-ed5c-410a5065982f"
      },
      "source": [
        "#14 all number additions\n",
        "def add(*args):\n",
        "   '''Function returns the addition \n",
        "   of all values'''\n",
        "   r = 0\n",
        "   for i in args:\n",
        "      r += i\n",
        "   return r\n",
        "print (add.__doc__)\n",
        "print (add(1, 2, 3))\n",
        "print (add(1, 2, 3, 4, 5))"
      ],
      "execution_count": null,
      "outputs": [
        {
          "output_type": "stream",
          "text": [
            "Function returns the addition \n",
            "   of all values\n",
            "6\n",
            "15\n"
          ],
          "name": "stdout"
        }
      ]
    },
    {
      "cell_type": "code",
      "metadata": {
        "colab": {
          "base_uri": "https://localhost:8080/"
        },
        "id": "RFXx9VLmn8-J",
        "outputId": "c75d7167-a5aa-49d1-ba1f-0db9f34a1952"
      },
      "source": [
        "#15 append number to list\n",
        "def addFunc(item):\n",
        "    item += [1]\n",
        "\n",
        "mylist = [1, 2, 3, 4]\n",
        "addFunc(mylist)\n",
        "print (len(mylist))\n",
        "\n"
      ],
      "execution_count": null,
      "outputs": [
        {
          "output_type": "stream",
          "text": [
            "5\n"
          ],
          "name": "stdout"
        }
      ]
    },
    {
      "cell_type": "code",
      "metadata": {
        "colab": {
          "base_uri": "https://localhost:8080/"
        },
        "id": "xDTqFWh-oGNp",
        "outputId": "e87ff6ff-d12c-43e2-e61f-e6be4d0b3f07"
      },
      "source": [
        "#16 type of args passed to fn\n",
        "def test_var_args(param1, *args):\n",
        "   print (type(args))\n",
        "\n",
        "\n",
        "test_var_args(1,2,3,4)\n"
      ],
      "execution_count": null,
      "outputs": [
        {
          "output_type": "stream",
          "text": [
            "<class 'tuple'>\n"
          ],
          "name": "stdout"
        }
      ]
    },
    {
      "cell_type": "code",
      "metadata": {
        "colab": {
          "base_uri": "https://localhost:8080/"
        },
        "id": "KdDpgiono29J",
        "outputId": "c7adbffd-dadb-47e3-d3e4-b71e02bfb922"
      },
      "source": [
        "#17 type of **kwargs passed\n",
        "def test_var_args(param1, **kwargs):\n",
        "   print (type(kwargs))\n",
        "\n",
        "test_var_args('capitals', India='New Delhi',\n",
        "Australia='Canberra', China='Beijing')"
      ],
      "execution_count": null,
      "outputs": [
        {
          "output_type": "stream",
          "text": [
            "<class 'dict'>\n"
          ],
          "name": "stdout"
        }
      ]
    },
    {
      "cell_type": "code",
      "metadata": {
        "colab": {
          "base_uri": "https://localhost:8080/"
        },
        "id": "1YRzOsG6pVkA",
        "outputId": "cc7eca13-a20e-4760-9265-e8210318292c"
      },
      "source": [
        "#18\n",
        "#type os kwargs\n",
        "def test_var_kwargs(farg, **kwargs):\n",
        "    print (\"formal arg:\", farg)\n",
        "    for key in kwargs:\n",
        "        print (\"another keyword arg: %s: %s\" % (key, kwargs[key]))\n",
        "test_var_kwargs(farg=1, myarg2=\"two\", myarg3=3)"
      ],
      "execution_count": null,
      "outputs": [
        {
          "output_type": "stream",
          "text": [
            "formal arg: 1\n",
            "another keyword arg: myarg2: two\n",
            "another keyword arg: myarg3: 3\n"
          ],
          "name": "stdout"
        }
      ]
    },
    {
      "cell_type": "code",
      "metadata": {
        "colab": {
          "base_uri": "https://localhost:8080/"
        },
        "id": "6D5nw5l5pZOE",
        "outputId": "14dea01b-9c63-47ff-8cca-8612bbe5ac70"
      },
      "source": [
        "#19 defining a pop \n",
        "myList = [1, 2, 3, 4, 5]\n",
        "def func(x):\n",
        "    x.pop()\n",
        "    x.pop()\n",
        "    x.insert(-1, 0)\n",
        "    print (\"Inside func():\", x)\n",
        "    \n",
        "func(myList)    \n",
        "print (\"After function call:\", myList)"
      ],
      "execution_count": null,
      "outputs": [
        {
          "output_type": "stream",
          "text": [
            "Inside func(): [1, 2, 0, 3]\n",
            "After function call: [1, 2, 0, 3]\n"
          ],
          "name": "stdout"
        }
      ]
    },
    {
      "cell_type": "code",
      "metadata": {
        "colab": {
          "base_uri": "https://localhost:8080/"
        },
        "id": "0P0JfiBnpso0",
        "outputId": "3f0ebf24-4294-4b64-97ee-47689b1229a4"
      },
      "source": [
        "#20 generate prime numbers\n",
        "def prime_nos_func():\n",
        "  nums = range(2, 50) \n",
        "  for i in range(2, 8): \n",
        "      nums = list(filter(lambda x: x == i or x % i, nums))\n",
        "print (nums)"
      ],
      "execution_count": null,
      "outputs": [
        {
          "output_type": "stream",
          "text": [
            "[2, 3, 5, 7, 11, 13, 17, 19, 23, 29, 31, 37, 41, 43, 47]\n"
          ],
          "name": "stdout"
        }
      ]
    },
    {
      "cell_type": "code",
      "metadata": {
        "id": "Td2tV0W-p93E"
      },
      "source": [
        "#21 text splitter\n",
        "def text_splitter(text):\n",
        "  words = text.split()\n",
        "  length = list(map(lambda word: len(word), words))\n",
        "  print (length)\n"
      ],
      "execution_count": null,
      "outputs": []
    },
    {
      "cell_type": "code",
      "metadata": {
        "colab": {
          "base_uri": "https://localhost:8080/"
        },
        "id": "1mfWDGNtqYc4",
        "outputId": "40ca8e0a-1f46-48c1-dca6-d61ca770305c"
      },
      "source": [
        "text = 'Welcome to the world of Python'\n",
        "text_splitter(text)"
      ],
      "execution_count": null,
      "outputs": [
        {
          "output_type": "stream",
          "text": [
            "[7, 2, 3, 5, 2, 6]\n"
          ],
          "name": "stdout"
        }
      ]
    },
    {
      "cell_type": "code",
      "metadata": {
        "colab": {
          "base_uri": "https://localhost:8080/"
        },
        "id": "VKIzfglJsZKg",
        "outputId": "39ba0815-4bc2-4ffc-dbd6-d295932d3c9f"
      },
      "source": [
        "#22 Simple closure function\n",
        "\n",
        "def multiply_number(num):\n",
        "    def product(number):\n",
        "        'product() here is a closure'\n",
        "        return num * number\n",
        "    return product\n",
        "\n",
        "num_2 = multiply_number(2)\n",
        "print(num_2(11))\n",
        "print(num_2(24))\n",
        "\n",
        "num_6 = multiply_number(6)\n",
        "print(num_6(1))"
      ],
      "execution_count": null,
      "outputs": [
        {
          "output_type": "stream",
          "text": [
            "22\n",
            "48\n",
            "6\n"
          ],
          "name": "stdout"
        }
      ]
    },
    {
      "cell_type": "code",
      "metadata": {
        "colab": {
          "base_uri": "https://localhost:8080/"
        },
        "id": "ugCqBhxuseZ_",
        "outputId": "fbd9e83a-8036-46c6-ec3e-368a3e882475"
      },
      "source": [
        "#23 simple decorator example\n",
        "def decorator_sample(func):\n",
        "    def decorator_hook(*args, **kwargs):\n",
        "        print(\"Before the function call\")\n",
        "        result = func(*args, **kwargs)\n",
        "        print(\"After the function call\")\n",
        "        return result\n",
        "    return decorator_hook\n",
        "\n",
        "@decorator_sample\n",
        "def product(x, y):\n",
        "    \"Function to multiply two numbers.\"\n",
        "    return x * y\n",
        "\n",
        "print(product(3, 3))"
      ],
      "execution_count": null,
      "outputs": [
        {
          "output_type": "stream",
          "text": [
            "Before the function call\n",
            "After the function call\n",
            "9\n"
          ],
          "name": "stdout"
        }
      ]
    },
    {
      "cell_type": "code",
      "metadata": {
        "colab": {
          "base_uri": "https://localhost:8080/"
        },
        "id": "-GgE1hsXsuS1",
        "outputId": "e74a269d-1f5d-4d98-eaeb-d6ef42bcdfb6"
      },
      "source": [
        "#24 day of week generator\n",
        "def testgen(index):\n",
        "  weekdays = ['sun','mon','tue','wed','thu','fri','sat']\n",
        "  yield weekdays[index]\n",
        "  yield weekdays[index+1]\n",
        "\n",
        "day = testgen(0)\n",
        "print (next(day), next(day))\n",
        "\n",
        "#output: sun mon"
      ],
      "execution_count": null,
      "outputs": [
        {
          "output_type": "stream",
          "text": [
            "sun mon\n"
          ],
          "name": "stdout"
        }
      ]
    },
    {
      "cell_type": "code",
      "metadata": {
        "id": "QV0z7npJthFp"
      },
      "source": [
        "#25 square matrix multiplicatiom\n",
        "def matrixmul(X,Y):\n",
        "  for i in range(len(X)):\n",
        "    # iterate through columns of Y\n",
        "    for j in range(len(Y[0])):\n",
        "        # iterate through rows of Y\n",
        "        for k in range(len(Y)):\n",
        "            result[i][j] += X[i][k] * Y[k][j]\n",
        "\n",
        "  for r in result:\n",
        "    print(r)"
      ],
      "execution_count": null,
      "outputs": []
    },
    {
      "cell_type": "code",
      "metadata": {
        "colab": {
          "base_uri": "https://localhost:8080/"
        },
        "id": "5mqLIEWNubUs",
        "outputId": "afefb87e-f80f-4f27-9b9e-86e6b768ce8b"
      },
      "source": [
        "# 3x3 matrix\n",
        "A = [[12,7,3],\n",
        "    [4 ,5,6],\n",
        "    [7 ,8,9]]\n",
        "# 3x4 matrix\n",
        "B = [[5,8,1],\n",
        "    [6,7,3],\n",
        "    [4,5,9]]\n",
        "# result is 3x3\n",
        "matrixmul(A,B)"
      ],
      "execution_count": null,
      "outputs": [
        {
          "output_type": "stream",
          "text": [
            "[228, 320, 120]\n",
            "[74, 97, 73]\n",
            "[119, 157, 112]\n"
          ],
          "name": "stdout"
        }
      ]
    },
    {
      "cell_type": "code",
      "metadata": {
        "id": "x9HHAY2RvG0Z"
      },
      "source": [
        "#26 create zero's matric like numpy zeros\n",
        "def zeros_matrix(rows, cols):\n",
        "    \"\"\"\n",
        "    Creates a matrix filled with zeros.\n",
        "        :param rows: the number of rows the matrix should have\n",
        "        :param cols: the number of columns the matrix should have\n",
        " \n",
        "        :return: list of lists that form the matrix\n",
        "    \"\"\"\n",
        "    M = []\n",
        "    while len(M) < rows:\n",
        "        M.append([])\n",
        "        while len(M[-1]) < cols:\n",
        "            M[-1].append(0.0)\n",
        " \n",
        "    return M"
      ],
      "execution_count": null,
      "outputs": []
    },
    {
      "cell_type": "code",
      "metadata": {
        "id": "VLCt1uYQvRxj"
      },
      "source": [
        "#27\n",
        "def transpose(M):\n",
        "    \n",
        "   \n",
        "    if not isinstance(M[0],list):\n",
        "        M = [M]\n",
        " \n",
        "    #matrix dim\n",
        "    rows = len(M)\n",
        "    cols = len(M[0])\n",
        " \n",
        "    # create zero matrix and populate\n",
        "    MT = zeros_matrix(cols, rows)\n",
        "\n",
        "    for i in range(rows):\n",
        "        for j in range(cols):\n",
        "            MT[j][i] = M[i][j]\n",
        " \n",
        "    return MT\n"
      ],
      "execution_count": null,
      "outputs": []
    },
    {
      "cell_type": "code",
      "metadata": {
        "id": "ags5B0_AvWMH"
      },
      "source": [
        "#28\n",
        "def matrix_addition(A, B):\n",
        "    \"\"\"\n",
        "    return: Matrix sum\n",
        "    \"\"\"\n",
        "    #check dim\n",
        "    rowsA = len(A)\n",
        "    colsA = len(A[0])\n",
        "    rowsB = len(B)\n",
        "    colsB = len(B[0])\n",
        "    if rowsA != rowsB or colsA != colsB:\n",
        "        raise ArithmeticError('Matrices are NOT the same size.')\n",
        " \n",
        "    #new zeros matrix\n",
        "    C = zeros_matrix(rowsA, colsB)\n",
        "\n",
        "    #add up elements\n",
        "    for i in range(rowsA):\n",
        "        for j in range(colsB):\n",
        "            C[i][j] = A[i][j] + B[i][j]\n",
        " \n",
        "    return C"
      ],
      "execution_count": null,
      "outputs": []
    },
    {
      "cell_type": "code",
      "metadata": {
        "id": "0nwj4ZW9vYXg"
      },
      "source": [
        "#29 \n",
        "def matrix_subtraction(A, B):\n",
        "    \"\"\"\n",
        "    Subtracts matrix to return matrix diff\n",
        "    \"\"\"\n",
        "    #check common dim\n",
        "    rowsA = len(A)\n",
        "    colsA = len(A[0])\n",
        "    rowsB = len(B)\n",
        "    colsB = len(B[0])\n",
        "    if rowsA != rowsB or colsA != colsB:\n",
        "        raise ArithmeticError('Matrices are NOT the same size.')\n",
        " \n",
        "    #zeros matrix\n",
        "    C = zeros_matrix(rowsA, colsB)\n",
        " \n",
        "    # element by element subtraction\n",
        "    for i in range(rowsA):\n",
        "        for j in range(colsB):\n",
        "            C[i][j] = A[i][j] - B[i][j]\n",
        " \n",
        "    return C"
      ],
      "execution_count": null,
      "outputs": []
    },
    {
      "cell_type": "code",
      "metadata": {
        "id": "8On9ppnCvcZr"
      },
      "source": [
        "#30\n",
        "def check_matrix_equality(A, B, tol=None):\n",
        "    \"\"\"\n",
        "    Checks the equality of two matrices.\n",
        "        \n",
        "    \"\"\"\n",
        "    #dim check\n",
        "    if len(A) != len(B) or len(A[0]) != len(B[0]):\n",
        "        return False\n",
        " \n",
        "    #element check with tolerance\n",
        "    for i in range(len(A)):\n",
        "        for j in range(len(A[0])):\n",
        "            if tol == None:\n",
        "                if A[i][j] != B[i][j]:\n",
        "                    return False\n",
        "            else:\n",
        "                if round(A[i][j],tol) != round(B[i][j],tol):\n",
        "                    return False\n",
        " \n",
        "    return True\n"
      ],
      "execution_count": null,
      "outputs": []
    },
    {
      "cell_type": "code",
      "metadata": {
        "id": "WjUcDs9exHx6"
      },
      "source": [
        "#fun with numbers 31\n",
        "def FibRecursion(n):  \n",
        "    if n <= 1:  \n",
        "        return n  \n",
        "    else:  \n",
        "        return(FibRecursion(n-1) + FibRecursion(n-2))  \n",
        "    nterms = int(input(\"Enter the terms? \"))  # take input from the user\n",
        "    \n",
        "    if nterms <= 0:  # check if the number is valid \n",
        "      print(\"Please enter a positive integer\")  \n",
        "    else:  \n",
        "      print(\"Fibonacci sequence:\")  \n",
        "      for i in range(nterms):  \n",
        "          print(FibRecursion(i))\n"
      ],
      "execution_count": null,
      "outputs": []
    },
    {
      "cell_type": "code",
      "metadata": {
        "colab": {
          "base_uri": "https://localhost:8080/"
        },
        "id": "7lItFnbfxiFa",
        "outputId": "f8a54105-a7d7-408f-bcdf-44e9a294ff4a"
      },
      "source": [
        "#parallel lines 32\n",
        "\n",
        "def are_parallel_lines(l1, l2):\n",
        "  l1=[2,3]\n",
        "  l2=[4,6]\n",
        "  if(l1[1]!=0 and l2[1]!=0):\n",
        "    if(l1[0]/l1[1]==l2[0]/l2[1]):\n",
        "      return True\n",
        "    else:\n",
        "      return False\n",
        "  else:\n",
        "    if(l1[0]==l2[0] and l1[1]==l2[1]):\n",
        "      return True\n",
        "    else:\n",
        "      return False\n",
        "\n",
        "if(are_parallel_lines(l1,l2)==True):\n",
        "        print(\"Yes\")\n",
        "else:\n",
        "        print(\"No\")"
      ],
      "execution_count": null,
      "outputs": [
        {
          "output_type": "stream",
          "text": [
            "Yes\n"
          ],
          "name": "stdout"
        }
      ]
    }
  ]
}